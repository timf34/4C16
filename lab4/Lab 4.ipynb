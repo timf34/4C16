{
 "cells": [
  {
   "cell_type": "code",
   "execution_count": null,
   "metadata": {
    "collapsed": true,
    "executionInfo": {
     "elapsed": 4,
     "status": "ok",
     "timestamp": 1665489400827,
     "user": {
      "displayName": "Francois Pitie",
      "userId": "11315581241956008928"
     },
     "user_tz": -60
    },
    "id": "gRo-KFP-1Xw-"
   },
   "outputs": [],
   "source": [
    "### 4C16 Lab 4 - Feedforward Neural Nets for Image Classification.\n",
    "# see handout-05\n",
    "# https://frcs.github.io/4C16-LectureNotes/\n"
   ]
  },
  {
   "cell_type": "code",
   "execution_count": null,
   "metadata": {
    "id": "q1vqH_6W8E-f"
   },
   "outputs": [],
   "source": [
    "# Note: the training will run faster if you run your notebook as a GPU instance.\n",
    "# to change to GPU mode, you need to go in the colab menu to Runtime>Change runtime type\n",
    "# then select \"hardware accelerator\" to GPU.\n",
    "# This will restart your instance (obviously), so everytime you do this you'll need to\n",
    "# start your again from the start of the notebook."
   ]
  },
  {
   "cell_type": "code",
   "execution_count": null,
   "metadata": {
    "colab": {
     "base_uri": "https://localhost:8080/"
    },
    "executionInfo": {
     "elapsed": 15826,
     "status": "ok",
     "timestamp": 1665489431137,
     "user": {
      "displayName": "Francois Pitie",
      "userId": "11315581241956008928"
     },
     "user_tz": -60
    },
    "id": "fn-8VN2Q5oK4",
    "outputId": "c2d40a3d-9ec5-4787-8432-66d05c79564f"
   },
   "outputs": [],
   "source": [
    "from google.colab import drive\n",
    "drive.mount('/content/gdrive')\n",
    "%cd /content/gdrive/MyDrive/4c16-labs/code/lab-04/"
   ]
  },
  {
   "cell_type": "code",
   "execution_count": null,
   "metadata": {
    "executionInfo": {
     "elapsed": 2,
     "status": "ok",
     "timestamp": 1665489432439,
     "user": {
      "displayName": "Francois Pitie",
      "userId": "11315581241956008928"
     },
     "user_tz": -60
    },
    "id": "sqdAb_jk1XxA"
   },
   "outputs": [],
   "source": [
    "# Import the necessary modules\n",
    "\n",
    "import tensorflow.keras as keras\n",
    "from tensorflow.keras import datasets\n",
    "from tensorflow.keras.layers import Dense, Flatten, Dropout, Activation\n",
    "from tensorflow.keras.regularizers import l2\n",
    "\n",
    "from tensorflow.keras.models import model_from_json\n",
    "\n",
    "from IPython.display import clear_output\n",
    "\n",
    "import numpy as np\n",
    "import matplotlib.pyplot as plt\n",
    "%matplotlib inline\n",
    "from matplotlib.ticker import MaxNLocator\n",
    "\n",
    "import pickle\n",
    "import sklearn as skl\n",
    "\n",
    "from sklearn import datasets, linear_model\n",
    "from sklearn.model_selection import cross_val_score"
   ]
  },
  {
   "cell_type": "code",
   "execution_count": null,
   "metadata": {
    "executionInfo": {
     "elapsed": 2,
     "status": "ok",
     "timestamp": 1665489432439,
     "user": {
      "displayName": "Francois Pitie",
      "userId": "11315581241956008928"
     },
     "user_tz": -60
    },
    "id": "RCbDCuCf1XxB"
   },
   "outputs": [],
   "source": [
    "# Define some useful functions\n",
    "class PlotLossAccuracy(keras.callbacks.Callback):\n",
    "    def on_train_begin(self, logs={}):\n",
    "        self.i = 0\n",
    "        self.x = []\n",
    "        self.acc = []\n",
    "        self.losses = []\n",
    "        self.val_losses = []\n",
    "        self.val_acc = []\n",
    "        self.logs = []\n",
    "\n",
    "    def on_epoch_end(self, epoch, logs={}):\n",
    "        \n",
    "        self.logs.append(logs)\n",
    "        self.x.append(int(self.i))\n",
    "        self.losses.append(logs.get('loss'))\n",
    "        self.val_losses.append(logs.get('val_loss'))\n",
    "        self.acc.append(logs.get('accuracy'))\n",
    "        self.val_acc.append(logs.get('val_accuracy'))\n",
    "        \n",
    "        self.i += 1\n",
    "        \n",
    "        clear_output(wait=True)\n",
    "        plt.figure(figsize=(16, 6))\n",
    "        plt.plot([1, 2])\n",
    "        plt.subplot(121) \n",
    "        plt.plot(self.x, self.losses, label=\"train loss\")\n",
    "        plt.plot(self.x, self.val_losses, label=\"validation loss\")\n",
    "        plt.gca().xaxis.set_major_locator(MaxNLocator(integer=True))\n",
    "        plt.ylabel('loss')\n",
    "        plt.xlabel('epoch')\n",
    "        plt.title('Model Loss')\n",
    "        plt.legend()\n",
    "        plt.subplot(122)         \n",
    "        plt.plot(self.x, self.acc, label=\"training accuracy\")\n",
    "        plt.plot(self.x, self.val_acc, label=\"validation accuracy\")\n",
    "        plt.legend()\n",
    "        plt.ylabel('accuracy')\n",
    "        plt.xlabel('epoch')\n",
    "        plt.title('Model Accuracy')\n",
    "        plt.gca().xaxis.set_major_locator(MaxNLocator(integer=True))\n",
    "        plt.show();\n",
    "        \n",
    "def save_model_to_disk():    \n",
    "    # save model and weights (don't change the filenames)\n",
    "    model_json = model.to_json()\n",
    "    with open(\"model.json\", \"w\") as json_file:\n",
    "        json_file.write(model_json)\n",
    "    # serialize weights to HDF5\n",
    "    model.save_weights(\"model.h5\")\n",
    "    print(\"Saved model to model.json and weights to model.h5\")"
   ]
  },
  {
   "cell_type": "code",
   "execution_count": null,
   "metadata": {
    "colab": {
     "base_uri": "https://localhost:8080/"
    },
    "executionInfo": {
     "elapsed": 26058,
     "status": "ok",
     "timestamp": 1665489460720,
     "user": {
      "displayName": "Francois Pitie",
      "userId": "11315581241956008928"
     },
     "user_tz": -60
    },
    "id": "AzgZnctO1XxC",
    "outputId": "5a79406b-8851-474e-d0ce-c3eaf64aea0c"
   },
   "outputs": [],
   "source": [
    "# loading dataset\n",
    "\n",
    "!curl --create-dirs -o /home/tcd/data/cifar10-dataset.pkl https://tcddeeplearning.blob.core.windows.net/deeplearning202324/cifar10-dataset.pkl"
   ]
  },
  {
   "cell_type": "code",
   "execution_count": null,
   "metadata": {
    "colab": {
     "base_uri": "https://localhost:8080/",
     "height": 769
    },
    "executionInfo": {
     "elapsed": 1688,
     "status": "ok",
     "timestamp": 1665489462401,
     "user": {
      "displayName": "Francois Pitie",
      "userId": "11315581241956008928"
     },
     "user_tz": -60
    },
    "id": "bflRauEw1XxC",
    "outputId": "6a322d09-30a7-4a71-9613-f7e93ea65dac"
   },
   "outputs": [],
   "source": [
    "print('loading the dataset...')\n",
    "\n",
    "pkl_file = open('/home/tcd/data/cifar10-dataset.pkl', 'rb') \n",
    "dataset = pickle.load(pkl_file)\n",
    "\n",
    "print('loaded.')\n",
    "\n",
    "print('let\\'s look at some of the pictures and their ground truth labels:')\n",
    "\n",
    "plt.figure(figsize=(12,12))\n",
    "plt.plot([3, 3])\n",
    "\n",
    "X = dataset['X'].astype('float32')/255\n",
    "Y = dataset['Y'].astype('float32')\n",
    "Y = keras.utils.to_categorical(Y)\n",
    "\n",
    "for i in range(0,9):\n",
    "    # pictures are 32x32x3 (width=32, height=32, 3 colour channels)\n",
    "    pic = X[i]\n",
    "\n",
    "    # Y[i] returns an array of zeros and with Y[i][classid] = 1\n",
    "    # for instance  Y[i] = [ 0 0 0 0 0 1 0 0 0 0] => classid=5 \n",
    "    #          and  Y[i] = [ 1 0 0 0 0 0 0 0 0 0] => classid=0\n",
    "    # we can get the classid by using the argmax function on the vector Y[i]\n",
    "    classid = Y[i].argmax(-1)\n",
    "\n",
    "    # getting back the name of the label for that classid\n",
    "    classname = dataset['labels'][classid]\n",
    "    plt.subplot(3,3,i+1)\n",
    "    plt.imshow(pic)\n",
    "    plt.title('label: {}'.format(classname))\n"
   ]
  },
  {
   "cell_type": "code",
   "execution_count": null,
   "metadata": {
    "executionInfo": {
     "elapsed": 5,
     "status": "ok",
     "timestamp": 1665489462401,
     "user": {
      "displayName": "Francois Pitie",
      "userId": "11315581241956008928"
     },
     "user_tz": -60
    },
    "id": "zDq6-J3o1XxC"
   },
   "outputs": [],
   "source": [
    "# let's split data between validation set and training set\n",
    "\n",
    "X_train, X_validation, Y_train, Y_validation = skl.model_selection.train_test_split(X, Y, test_size=.1)"
   ]
  },
  {
   "cell_type": "code",
   "execution_count": null,
   "metadata": {
    "colab": {
     "base_uri": "https://localhost:8080/"
    },
    "executionInfo": {
     "elapsed": 1110,
     "status": "ok",
     "timestamp": 1665490201167,
     "user": {
      "displayName": "Francois Pitie",
      "userId": "11315581241956008928"
     },
     "user_tz": -60
    },
    "id": "nXbvtPG41XxD",
    "outputId": "8ed90b9c-ff5c-41c3-deb3-ef9704cff184"
   },
   "outputs": [],
   "source": [
    "# the data structure is a tensor, ie. it is a multidimensional array\n",
    "# each layer instance is callable on a tensor, and returns a tensor\n",
    "\n",
    "# The model below contains 2 hidden layers with 30 nodes each. \n",
    "# The activation functions for these 2 layers is the ReLU\n",
    "# The network ends with a 10 nodes layer with softmax activation\n",
    "# The first 2 hidden layers transform the original features into \n",
    "# a new feature vector of size 30.\n",
    "# The last layer essentially does the classification using multonomial regression\n",
    "# based on these new features. \n",
    "\n",
    "inputs = keras.layers.Input(shape=(32, 32, 3))\n",
    "x = Flatten()(inputs)\n",
    "x = Dense(30, activation='relu')(x)\n",
    "x = Dense(30, activation='relu')(x)\n",
    "\n",
    "predictions = Dense(10, activation='softmax')(x)\n",
    "\n",
    "# we create the model \n",
    "model = keras.models.Model(inputs=inputs, outputs=predictions)\n",
    "opt = keras.optimizers.legacy.SGD(learning_rate=0.01, decay=1e-6, momentum=0.9, nesterov=True)\n",
    "\n",
    "# setup the optimisation strategy\n",
    "model.compile(optimizer=opt,\n",
    "              loss='categorical_crossentropy',\n",
    "              metrics=['accuracy'])\n",
    "\n",
    "\n",
    "model.summary()\n",
    "\n",
    "if (model.count_params() > 5000000):    \n",
    "    raise Exception(\"Your model is unecessarily complex, scale down!\")\n"
   ]
  },
  {
   "cell_type": "code",
   "execution_count": null,
   "metadata": {
    "colab": {
     "base_uri": "https://localhost:8080/",
     "height": 423
    },
    "executionInfo": {
     "elapsed": 28124,
     "status": "error",
     "timestamp": 1665490358024,
     "user": {
      "displayName": "Francois Pitie",
      "userId": "11315581241956008928"
     },
     "user_tz": -60
    },
    "id": "CzNN8eDk1XxD",
    "outputId": "c9a10ff1-10a6-4c91-be8b-cd1dc1976691"
   },
   "outputs": [],
   "source": [
    "# we create a callback function to plot our loss function and accuracy\n",
    "pltCallBack = PlotLossAccuracy()\n",
    "\n",
    "# and train\n",
    "model.fit(X_train, Y_train,\n",
    "          batch_size=1024, epochs=40, \n",
    "          validation_data=(X_validation, Y_validation), \n",
    "          callbacks=[pltCallBack])\n",
    "\n",
    "# If you run this cell again, the optimisation starts where you left it.\n",
    "# For instance, if you have set epochs=40 in the model.fit call,\n",
    "# and that you run the cell 3 times, then you are effectively running for\n",
    "# 120 iterations."
   ]
  },
  {
   "cell_type": "code",
   "execution_count": null,
   "metadata": {
    "colab": {
     "base_uri": "https://localhost:8080/"
    },
    "executionInfo": {
     "elapsed": 2041,
     "status": "ok",
     "timestamp": 1665489590907,
     "user": {
      "displayName": "Francois Pitie",
      "userId": "11315581241956008928"
     },
     "user_tz": -60
    },
    "id": "QVvRqmaa1XxD",
    "outputId": "de290643-dde9-41f1-ab93-cc449c7d9ed1"
   },
   "outputs": [],
   "source": [
    "# write model to model.json and weights to model.h5 for submission\n",
    "\n",
    "save_model_to_disk()"
   ]
  },
  {
   "cell_type": "code",
   "execution_count": null,
   "metadata": {
    "executionInfo": {
     "elapsed": 2,
     "status": "ok",
     "timestamp": 1665489640724,
     "user": {
      "displayName": "Francois Pitie",
      "userId": "11315581241956008928"
     },
     "user_tz": -60
    },
    "id": "jfowD_l01XxE"
   },
   "outputs": [],
   "source": [
    "# you can now commit and push and submit lab for assessment"
   ]
  },
  {
   "cell_type": "code",
   "execution_count": null,
   "metadata": {
    "collapsed": true,
    "id": "55IczY3s1XxE"
   },
   "outputs": [],
   "source": [
    "# Question: design a network only using Dense layers and achieve 50% or more accuracy on the server's test set\n",
    "#\n",
    "# You may want to test the following:\n",
    "#\n",
    "#     adding layers, \n",
    "#     changing the number of units per layer, \n",
    "#     changing the activation functions,\n",
    "#     changing the optimizer\n",
    "#     the learning rate,\n",
    "#     adding Dropout [https://keras.io/layers/core/#dropout]\n",
    "#     adding Regularisers (eg. L2, L1) [https://keras.io/regularizers/]\n",
    "#\n",
    "# Always check on your accuray and loss graphs that that you are not overfitting. \n",
    "#\n",
    "# you don't need to go mad, we know you can get 55% accuracy with only 3 Dense layers.\n",
    "# Also note that Deeper networks will require longer training times.\n",
    "#\n",
    "# Good luck!\n",
    "#\n",
    "# F.A.Q.\n",
    "#\n",
    "#   I reached 51% on my validation set, but the submission didn't pass, how come? \n",
    "#     > the test set on the server is different from your validation set\n",
    "#   can I use convolutional layers? \n",
    "#     > No.\n",
    "#\n",
    "\n",
    "\n"
   ]
  }
 ],
 "metadata": {
  "accelerator": "GPU",
  "colab": {
   "collapsed_sections": [],
   "provenance": []
  },
  "kernelspec": {
   "display_name": "Python 3",
   "language": "python",
   "name": "python3"
  },
  "language_info": {
   "codemirror_mode": {
    "name": "ipython",
    "version": 3
   },
   "file_extension": ".py",
   "mimetype": "text/x-python",
   "name": "python",
   "nbconvert_exporter": "python",
   "pygments_lexer": "ipython3",
   "version": "3.6.6"
  }
 },
 "nbformat": 4,
 "nbformat_minor": 0
}
